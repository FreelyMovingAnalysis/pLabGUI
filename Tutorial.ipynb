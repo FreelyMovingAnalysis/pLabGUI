{
 "cells": [
  {
   "cell_type": "code",
   "execution_count": 2,
   "metadata": {},
   "outputs": [],
   "source": [
    "import sys, os\n",
    "sys.path.append(os.path.abspath(''))\n",
    "import pLabGUI"
   ]
  },
  {
   "cell_type": "code",
   "execution_count": 3,
   "metadata": {},
   "outputs": [],
   "source": [
    "def custom_func(app):\n",
    "    app.layout.addWidget(pLabGUI.QLabel(\"This is a test to show how you can tune the app\"))\n",
    "    pass\n",
    "    \n",
    "pLabGUI.custom_app_launcher(custom_func)"
   ]
  },
  {
   "cell_type": "code",
   "execution_count": 10,
   "metadata": {},
   "outputs": [],
   "source": [
    "#create some data\n",
    "import numpy as np\n",
    "data = np.random.random((20,20,20))\n",
    "\n",
    "def test_function(app):\n",
    "    \n",
    "    #Here we add an ax like for any matplotlib plot. We name it image_axis for later more readable acess (can be any name)\n",
    "    #Note :\n",
    "    #If the positionning of the axes is not automatically good (currentely, it will probably not be with more than 1 axis) \n",
    "    #you can tune it manually with rect = [originx,originy,widthx,widthy] all values between 0 and 1. 0 being bottom left corner, 1 top right (relative positionning)\n",
    "    app.figure.add_axes( \"image_axis\" )\n",
    "    \n",
    "    #We plot something (for now, .imshow and .plot only are working)\n",
    "    #The data we just added thoug that plot is the first for this axis, so we can acess it afterwards to tune some parameteres via app.figure.image_axis.plot_data[0]\n",
    "    #If we plotted a second thing on this axis, the data would be acessible throug app.figure.image_axis.plot_data[1] and so on.\n",
    "    app.figure.image_axis.imshow(data,zorder = 0, interpolation = \"bilinear\") \n",
    "    \n",
    "    #As we want to be able to adjust visibility of the data through time with a slider, we set the dimension of the data that should be selected by this slider (here the 3rd simension so axis = 2)\n",
    "    #Mode onpoint means the slider has the effect of selecting only it's own value as index of the data at the specifie axis at wich it is. \n",
    "    #So you \"loose\" one axis wherever you are (3D data becomes 2D data with onpoint mode)\n",
    "    app.figure.image_axis.plot_data[0].set_time_axis(axis = 2, mode = \"onpoint\") \n",
    "    #We connect the slider because we want this data to be adjustable with the slider.\n",
    "    app.figure.image_axis.plot_data[0].connect_slider(app.slider)\n",
    "    #We connect a selector to it. Selectors allows to live tune kwargs of a given plot (in this case, color_control is a group of selectors that adjusts vmin, vmax and cmap kwargs)\n",
    "    app.figure.image_axis.plot_data[0].connect_selector(app.color_control)\n",
    "    \n",
    "    #Here we add an ax like for any matplotlib plot. We name it line_axis for later more readable acess (can be any name)\n",
    "    app.figure.add_axes( \"line_axis\" )\n",
    "    #We plot something here\n",
    "    app.figure.line_axis.plot(np.arange(0,20), np.squeeze(data[10,10,:]) + 10,zorder = 2,linewidth = 3,color = \"red\" )\n",
    "    \n",
    "    #We acess data as before.\n",
    "    #For line plot, as data is 1d, we set axis to 0. If we did mode = on, we would get 1 point wich is not very usefull\n",
    "    #So mode here is set to progress, so we see the line evolving with time(we can see the last point to have precise view over how video is related to a given signal in time)\n",
    "    app.figure.line_axis.plot_data[0].set_time_axis(axis = 0, mode = \"progress\")\n",
    "    #connect it to slider too\n",
    "    app.figure.line_axis.plot_data[0].connect_slider(app.slider)\n",
    "    \n",
    "    \n",
    "    app.figure.line_axis.plot([0,0],[0,19],zorder = 1,linewidth = 3,color = \"blue\" )   \n",
    "    app.figure.line_axis.plot_data[1].set_time_axis(axis = 0, mode = \"move\")\n",
    "    #same except here we connect a very boring line (just a straight line) to move, so the x values are affected by slider,  but not the y. \n",
    "    #This results in a moving bar wich can be used to see time location across a static plot for example (a plot you did not connected to a slider) or any other purpose you can imagine. \n",
    "    app.figure.line_axis.plot_data[1].connect_slider(app.slider)\n",
    "    \n",
    "    app.figure.line_axis.plot(np.arange(0,20),data[10,:,:] + 5,zorder = 2,linewidth = 3,color = \"green\" )\n",
    "    #Finally, onpoint here with plot, is used because the y data is 2D, so with onpoint we select chunks of it through the slider so show only a line. \n",
    "    #x data does not change as it has no axis 1 and we specified the slider only affects axis 1 \n",
    "    app.figure.line_axis.plot_data[2].set_time_axis(axis = 1, mode = \"onpoint\")\n",
    "    app.figure.line_axis.plot_data[2].connect_slider(app.slider)\n",
    "    \n",
    "    #Finally, anthing you can normally apply to matplotlib axes can be applied to an axis you created with it's name (the class is a derived matplotlib axis class so it inheritates everything)\n",
    "    app.figure.line_axis.set_ylim([0,20])\n",
    "    #And the same for matplotlib fig, any function can be acessed for the figure through app.figure\n",
    "    app.figure.figure.set_tight_layout(False)\n",
    "    \n",
    "    \n",
    "    #Last, we can set the layout of the widgets on the window. You can adjust it so i put it here, but leaving it like that works well generally.\n",
    "    #the 4 numbers are the x,y position of the widget in  columns, row (in that order) and the two other numbers are it's height and width (in that order, and in row,column unit)\n",
    "    #The window \"invisible grid\" will be adjusted automatically to fit everything inside so we don't need to set the gridsize prior to setting these values\n",
    "    app.layout.addWidget(app.figure,0,0,1,5)\n",
    "    app.layout.addWidget(app.slider,1,0,1,4)\n",
    "    app.layout.addWidget(app.color_control,1,4,1,1)\n",
    "    \n",
    "    #This allows to add a toolbar on top of the plot widget\n",
    "    app.addToolBar(app.navigation_toolbar(app.figure, app))"
   ]
  },
  {
   "cell_type": "code",
   "execution_count": 11,
   "metadata": {},
   "outputs": [
    {
     "name": "stdout",
     "output_type": "stream",
     "text": [
      "[0.05, 0.125, 0.95, 0.875]\n",
      "[0.05, 0.125, 0.95, 0.4]\n",
      "[0.05, 0.6, 0.95, 0.875]\n"
     ]
    }
   ],
   "source": [
    "    \n",
    "pLabGUI.custom_app_launcher(test_function)"
   ]
  },
  {
   "cell_type": "code",
   "execution_count": null,
   "metadata": {},
   "outputs": [],
   "source": []
  }
 ],
 "metadata": {
  "kernelspec": {
   "display_name": "Python 3",
   "language": "python",
   "name": "python3"
  },
  "language_info": {
   "codemirror_mode": {
    "name": "ipython",
    "version": 3
   },
   "file_extension": ".py",
   "mimetype": "text/x-python",
   "name": "python",
   "nbconvert_exporter": "python",
   "pygments_lexer": "ipython3",
   "version": "3.6.12"
  }
 },
 "nbformat": 4,
 "nbformat_minor": 4
}
